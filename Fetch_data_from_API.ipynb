{
  "nbformat": 4,
  "nbformat_minor": 0,
  "metadata": {
    "colab": {
      "provenance": []
    },
    "kernelspec": {
      "name": "python3",
      "display_name": "Python 3"
    },
    "language_info": {
      "name": "python"
    }
  },
  "cells": [
    {
      "cell_type": "code",
      "execution_count": null,
      "metadata": {
        "id": "07a_bTm-evZo",
        "collapsed": true
      },
      "outputs": [],
      "source": [
        "!pip install boto3"
      ]
    },
    {
      "cell_type": "code",
      "source": [
        "import boto3\n",
        "kinesis_client_new = boto3.client('kinesis', region_name='ap-southeast-1', aws_access_key_id='', aws_secret_access_key='')"
      ],
      "metadata": {
        "id": "ANoxCS1AOqDr"
      },
      "execution_count": null,
      "outputs": []
    },
    {
      "cell_type": "code",
      "source": [
        "\n",
        "import boto3\n",
        "import requests\n",
        "import json\n",
        "import time\n",
        "import pandas as pd\n",
        "\n",
        "def send_to_kinesis(data):\n",
        "    # Send data to Kinesis stream\n",
        "    data_record = json.dumps(data)\n",
        "    kinesis_client_new.put_record(StreamName='food-data-kinesis-stream', Data=data_record, PartitionKey='1')\n",
        "\n",
        "def invoke_api():\n",
        "    # API Gateway endpoint URL\n",
        "\n",
        "    api_endpoint = 'https://ei2v5cmcmg.ap-southeast-1.awsapprunner.com/fetch_data'\n",
        "    # Define the parameters\n",
        "    params = {\n",
        "        'year': '2022'\n",
        "    }\n",
        "    # Make a GET request to the API\n",
        "    response = requests.get(api_endpoint, params=params)\n",
        "\n",
        "    json_data = json.loads(json.loads(response.text))\n",
        "\n",
        "    print(len(json_data))\n",
        "\n",
        "    for i in range(0,len(json_data)):\n",
        "        send_to_kinesis(json_data[i])\n",
        "\n",
        "    #print(i)\n",
        "\n",
        "invoke_api()\n"
      ],
      "metadata": {
        "id": "nr0aiAoJe0rG"
      },
      "execution_count": null,
      "outputs": []
    }
  ]
}